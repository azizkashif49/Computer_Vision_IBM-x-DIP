{
 "cells": [
  {
   "cell_type": "markdown",
   "id": "e7791848",
   "metadata": {},
   "source": [
    "Logistic Regression With Mini-Batch Gradient Descent \n",
    "Objective\n",
    "Represent your data as a Dataset object\n",
    "Create a Logistic Regression Model using PyTorch\n",
    "Set a Criterion to calculate Loss\n",
    "Create a Data Loader and set the Batch Size\n",
    "Create an Optimizer to update Model Parameters and set Learning Rate\n",
    "Train a Model"
   ]
  },
  {
   "cell_type": "code",
   "execution_count": 1,
   "id": "392969bc",
   "metadata": {},
   "outputs": [
    {
     "name": "stdout",
     "output_type": "stream",
     "text": [
      "Requirement already satisfied: torch in c:\\users\\user\\anaconda3\\lib\\site-packages (2.0.1)\n",
      "Requirement already satisfied: torchvision in c:\\users\\user\\anaconda3\\lib\\site-packages (0.15.2)\n",
      "Requirement already satisfied: torchaudio in c:\\users\\user\\anaconda3\\lib\\site-packages (2.0.2)\n",
      "Requirement already satisfied: networkx in c:\\users\\user\\anaconda3\\lib\\site-packages (from torch) (2.8.4)\n",
      "Requirement already satisfied: typing-extensions in c:\\users\\user\\anaconda3\\lib\\site-packages (from torch) (4.4.0)\n",
      "Requirement already satisfied: sympy in c:\\users\\user\\anaconda3\\lib\\site-packages (from torch) (1.11.1)\n",
      "Requirement already satisfied: jinja2 in c:\\users\\user\\anaconda3\\lib\\site-packages (from torch) (3.1.2)\n",
      "Requirement already satisfied: filelock in c:\\users\\user\\anaconda3\\lib\\site-packages (from torch) (3.9.0)\n",
      "Requirement already satisfied: pillow!=8.3.*,>=5.3.0 in c:\\users\\user\\anaconda3\\lib\\site-packages (from torchvision) (9.4.0)\n",
      "Requirement already satisfied: numpy in c:\\users\\user\\anaconda3\\lib\\site-packages (from torchvision) (1.23.5)\n",
      "Requirement already satisfied: requests in c:\\users\\user\\anaconda3\\lib\\site-packages (from torchvision) (2.28.1)\n",
      "Requirement already satisfied: MarkupSafe>=2.0 in c:\\users\\user\\anaconda3\\lib\\site-packages (from jinja2->torch) (2.1.1)\n",
      "Requirement already satisfied: charset-normalizer<3,>=2 in c:\\users\\user\\anaconda3\\lib\\site-packages (from requests->torchvision) (2.0.4)\n",
      "Requirement already satisfied: urllib3<1.27,>=1.21.1 in c:\\users\\user\\anaconda3\\lib\\site-packages (from requests->torchvision) (1.26.14)\n",
      "Requirement already satisfied: certifi>=2017.4.17 in c:\\users\\user\\anaconda3\\lib\\site-packages (from requests->torchvision) (2023.5.7)\n",
      "Requirement already satisfied: idna<4,>=2.5 in c:\\users\\user\\anaconda3\\lib\\site-packages (from requests->torchvision) (3.4)\n",
      "Requirement already satisfied: mpmath>=0.19 in c:\\users\\user\\anaconda3\\lib\\site-packages (from sympy->torch) (1.2.1)\n"
     ]
    }
   ],
   "source": [
    "!pip3 install torch torchvision torchaudio"
   ]
  },
  {
   "cell_type": "code",
   "execution_count": 2,
   "id": "32d889dd",
   "metadata": {},
   "outputs": [],
   "source": [
    "# Import the libraries we need\n",
    "\n",
    "# Allows us to use arrays to manipulate and store data\n",
    "import numpy as np\n",
    "# Used to graph data and loss curves\n",
    "import matplotlib.pyplot as plt\n",
    "from mpl_toolkits import mplot3d\n",
    "# PyTorch Library\n",
    "import torch\n",
    "# Used to help crate the dataset and perform mini-batch\n",
    "from torch.utils.data import Dataset, DataLoader\n",
    "# PyTorch Neural Network\n",
    "import torch.nn as nn"
   ]
  },
  {
   "cell_type": "markdown",
   "id": "aeaa61f8",
   "metadata": {},
   "source": [
    "The class plot_error_surfaces is just to help you visualize the data space and the parameter space during training and has nothing to do with Pytorch."
   ]
  },
  {
   "cell_type": "code",
   "execution_count": 3,
   "id": "a7e3bdcb",
   "metadata": {},
   "outputs": [],
   "source": [
    "# Create class for plotting and the function for plotting\n",
    "\n",
    "class plot_error_surfaces(object):\n",
    "    \n",
    "    # Construstor\n",
    "    def __init__(self, w_range, b_range, X, Y, n_samples = 30, go = True):\n",
    "        W = np.linspace(-w_range, w_range, n_samples)\n",
    "        B = np.linspace(-b_range, b_range, n_samples)\n",
    "        w, b = np.meshgrid(W, B)    \n",
    "        Z = np.zeros((30, 30))\n",
    "        count1 = 0\n",
    "        self.y = Y.numpy()\n",
    "        self.x = X.numpy()\n",
    "        for w1, b1 in zip(w, b):\n",
    "            count2 = 0\n",
    "            for w2, b2 in zip(w1, b1):\n",
    "                yhat= 1 / (1 + np.exp(-1*(w2*self.x+b2)))\n",
    "                Z[count1,count2]=-1*np.mean(self.y*np.log(yhat+1e-16) +(1-self.y)*np.log(1-yhat+1e-16))\n",
    "                count2 += 1   \n",
    "            count1 += 1\n",
    "        self.Z = Z\n",
    "        self.w = w\n",
    "        self.b = b\n",
    "        self.W = []\n",
    "        self.B = []\n",
    "        self.LOSS = []\n",
    "        self.n = 0\n",
    "        if go == True:\n",
    "            plt.figure()\n",
    "            plt.figure(figsize=(7.5, 5))\n",
    "            plt.axes(projection='3d').plot_surface(self.w, self.b, self.Z, rstride=1, cstride=1, cmap='viridis', edgecolor='none')\n",
    "            plt.title('Loss Surface')\n",
    "            plt.xlabel('w')\n",
    "            plt.ylabel('b')\n",
    "            plt.show()\n",
    "            plt.figure()\n",
    "            plt.title('Loss Surface Contour')\n",
    "            plt.xlabel('w')\n",
    "            plt.ylabel('b')\n",
    "            plt.contour(self.w, self.b, self.Z)\n",
    "            plt.show()\n",
    "            \n",
    "     # Setter\n",
    "    def set_para_loss(self, model, loss):\n",
    "        self.n = self.n + 1\n",
    "        self.W.append(list(model.parameters())[0].item())\n",
    "        self.B.append(list(model.parameters())[1].item())\n",
    "        self.LOSS.append(loss)\n",
    "    \n",
    "    # Plot diagram\n",
    "    def final_plot(self): \n",
    "        ax = plt.axes(projection='3d')\n",
    "        ax.plot_wireframe(self.w, self.b, self.Z)\n",
    "        ax.scatter(self.W, self.B, self.LOSS, c='r', marker='x', s=200, alpha=1)\n",
    "        plt.figure()\n",
    "        plt.contour(self.w, self.b, self.Z)\n",
    "        plt.scatter(self.W, self.B, c='r', marker='x')\n",
    "        plt.xlabel('w')\n",
    "        plt.ylabel('b')\n",
    "        plt.show()\n",
    "        \n",
    "    # Plot diagram\n",
    "    def plot_ps(self):\n",
    "        plt.subplot(121)\n",
    "        plt.ylim\n",
    "        plt.plot(self.x[self.y==0], self.y[self.y==0], 'ro', label=\"training points\")\n",
    "        plt.plot(self.x[self.y==1], self.y[self.y==1]-1, 'o', label=\"training points\")\n",
    "        plt.plot(self.x, self.W[-1] * self.x + self.B[-1], label=\"estimated line\")\n",
    "        plt.xlabel('x')\n",
    "        plt.ylabel('y')\n",
    "        plt.ylim((-0.1, 2))\n",
    "        plt.title('Data Space Iteration: ' + str(self.n))\n",
    "        plt.show()\n",
    "        plt.subplot(122)\n",
    "        plt.contour(self.w, self.b, self.Z)\n",
    "        plt.scatter(self.W, self.B, c='r', marker='x')\n",
    "        plt.title('Loss Surface Contour Iteration' + str(self.n))\n",
    "        plt.xlabel('w')\n",
    "        plt.ylabel('b')\n",
    "        \n",
    "# Plot the diagram\n",
    "\n",
    "def PlotStuff(X, Y, model, epoch, leg=True):\n",
    "    \n",
    "    plt.plot(X.numpy(), model(X).detach().numpy(), label=('epoch ' + str(epoch)))\n",
    "    plt.plot(X.numpy(), Y.numpy(), 'r')\n",
    "    if leg == True:\n",
    "        plt.legend()\n",
    "    else:\n",
    "        pass"
   ]
  },
  {
   "cell_type": "code",
   "execution_count": 4,
   "id": "19d7856a",
   "metadata": {},
   "outputs": [
    {
     "data": {
      "text/plain": [
       "<torch._C.Generator at 0x264267077f0>"
      ]
     },
     "execution_count": 4,
     "metadata": {},
     "output_type": "execute_result"
    }
   ],
   "source": [
    "# Setting the seed will allow us to control randomness and give us reproducibility\n",
    "torch.manual_seed(0)"
   ]
  },
  {
   "cell_type": "code",
   "execution_count": 5,
   "id": "146cf406",
   "metadata": {},
   "outputs": [],
   "source": [
    "# Create the custom Data class which inherits Dataset\n",
    "class Data(Dataset):\n",
    "    \n",
    "    # Constructor\n",
    "    def __init__(self):\n",
    "        # Create X values from -1 to 1 with step .1\n",
    "        self.x = torch.arange(-1, 1, 0.1).view(-1, 1)\n",
    "        # Create Y values all set to 0\n",
    "        self.y = torch.zeros(self.x.shape[0], 1)\n",
    "        # Set the X values above 0.2 to 1\n",
    "        self.y[self.x[:, 0] > 0.2] = 1\n",
    "        # Set the .len attribute because we need to override the __len__ method\n",
    "        self.len = self.x.shape[0]\n",
    "    \n",
    "    # Getter that returns the data at the given index\n",
    "    def __getitem__(self, index):      \n",
    "        return self.x[index], self.y[index]\n",
    "    \n",
    "    # Get length of the dataset\n",
    "    def __len__(self):\n",
    "        return self.len"
   ]
  },
  {
   "cell_type": "code",
   "execution_count": 6,
   "id": "ead19beb",
   "metadata": {},
   "outputs": [],
   "source": [
    "# Create Data object\n",
    "data_set = Data()"
   ]
  },
  {
   "cell_type": "code",
   "execution_count": 7,
   "id": "958891ab",
   "metadata": {},
   "outputs": [
    {
     "data": {
      "text/plain": [
       "tensor([[-1.0000e+00],\n",
       "        [-9.0000e-01],\n",
       "        [-8.0000e-01],\n",
       "        [-7.0000e-01],\n",
       "        [-6.0000e-01],\n",
       "        [-5.0000e-01],\n",
       "        [-4.0000e-01],\n",
       "        [-3.0000e-01],\n",
       "        [-2.0000e-01],\n",
       "        [-1.0000e-01],\n",
       "        [-2.9802e-09],\n",
       "        [ 1.0000e-01],\n",
       "        [ 2.0000e-01],\n",
       "        [ 3.0000e-01],\n",
       "        [ 4.0000e-01],\n",
       "        [ 5.0000e-01],\n",
       "        [ 6.0000e-01],\n",
       "        [ 7.0000e-01],\n",
       "        [ 8.0000e-01],\n",
       "        [ 9.0000e-01]])"
      ]
     },
     "execution_count": 7,
     "metadata": {},
     "output_type": "execute_result"
    }
   ],
   "source": [
    "data_set.x"
   ]
  },
  {
   "cell_type": "code",
   "execution_count": 8,
   "id": "6dec7d4f",
   "metadata": {},
   "outputs": [
    {
     "data": {
      "text/plain": [
       "tensor([[0.],\n",
       "        [0.],\n",
       "        [0.],\n",
       "        [0.],\n",
       "        [0.],\n",
       "        [0.],\n",
       "        [0.],\n",
       "        [0.],\n",
       "        [0.],\n",
       "        [0.],\n",
       "        [0.],\n",
       "        [0.],\n",
       "        [0.],\n",
       "        [1.],\n",
       "        [1.],\n",
       "        [1.],\n",
       "        [1.],\n",
       "        [1.],\n",
       "        [1.],\n",
       "        [1.]])"
      ]
     },
     "execution_count": 8,
     "metadata": {},
     "output_type": "execute_result"
    }
   ],
   "source": [
    "data_set.y"
   ]
  },
  {
   "cell_type": "code",
   "execution_count": 9,
   "id": "d56467b4",
   "metadata": {},
   "outputs": [
    {
     "data": {
      "text/plain": [
       "20"
      ]
     },
     "execution_count": 9,
     "metadata": {},
     "output_type": "execute_result"
    }
   ],
   "source": [
    "len(data_set)"
   ]
  },
  {
   "cell_type": "code",
   "execution_count": 10,
   "id": "3629284a",
   "metadata": {},
   "outputs": [
    {
     "name": "stdout",
     "output_type": "stream",
     "text": [
      "x = tensor([-1.]),  y = tensor([0.])\n"
     ]
    }
   ],
   "source": [
    "x,y = data_set[0]\n",
    "print(\"x = {},  y = {}\".format(x,y))"
   ]
  },
  {
   "cell_type": "code",
   "execution_count": 11,
   "id": "6f1c0329",
   "metadata": {},
   "outputs": [
    {
     "name": "stdout",
     "output_type": "stream",
     "text": [
      "x = tensor([-0.9000]),  y = tensor([0.])\n"
     ]
    }
   ],
   "source": [
    "x,y = data_set[1]\n",
    "print(\"x = {},  y = {}\".format(x,y))"
   ]
  },
  {
   "cell_type": "code",
   "execution_count": null,
   "id": "f4d32b29",
   "metadata": {},
   "outputs": [
    {
     "data": {
      "text/plain": [
       "<matplotlib.legend.Legend at 0x2642e99e2c0>"
      ]
     },
     "execution_count": 12,
     "metadata": {},
     "output_type": "execute_result"
    }
   ],
   "source": [
    "plt.plot(data_set.x[data_set.y==0], data_set.y[data_set.y==0], 'ro', label=\"y=0\")\n",
    "plt.plot(data_set.x[data_set.y==1], data_set.y[data_set.y==1]-1, 'o', label=\"y=1\")\n",
    "plt.xlabel('x')\n",
    "plt.legend()  "
   ]
  },
  {
   "cell_type": "code",
   "execution_count": null,
   "id": "167c9a34",
   "metadata": {},
   "outputs": [],
   "source": [
    "# Create logistic_regression class that inherits nn.Module which is the base class for all neural networks\n",
    "class logistic_regression(nn.Module):\n",
    "    \n",
    "    # Constructor\n",
    "    def __init__(self, n_inputs):\n",
    "        super(logistic_regression, self).__init__()\n",
    "        # Single layer of Logistic Regression with number of inputs being n_inputs and there being 1 output \n",
    "        self.linear = nn.Linear(n_inputs, 1)\n",
    "        \n",
    "    # Prediction\n",
    "    def forward(self, x):\n",
    "        # Using the input x value puts it through the single layer defined above then puts the output through the sigmoid function and returns the result\n",
    "        yhat = torch.sigmoid(self.linear(x))\n",
    "        return yhat"
   ]
  },
  {
   "cell_type": "code",
   "execution_count": 1,
   "id": "06a906bf",
   "metadata": {},
   "outputs": [
    {
     "ename": "NameError",
     "evalue": "name 'data_set' is not defined",
     "output_type": "error",
     "traceback": [
      "\u001b[1;31m---------------------------------------------------------------------------\u001b[0m",
      "\u001b[1;31mNameError\u001b[0m                                 Traceback (most recent call last)",
      "Cell \u001b[1;32mIn[1], line 1\u001b[0m\n\u001b[1;32m----> 1\u001b[0m x,y \u001b[38;5;241m=\u001b[39m \u001b[43mdata_set\u001b[49m[\u001b[38;5;241m0\u001b[39m]\n\u001b[0;32m      2\u001b[0m \u001b[38;5;28mlen\u001b[39m(x)\n",
      "\u001b[1;31mNameError\u001b[0m: name 'data_set' is not defined"
     ]
    }
   ],
   "source": [
    "x,y = data_set[0]\n",
    "len(x)\n"
   ]
  },
  {
   "cell_type": "code",
   "execution_count": null,
   "id": "c821a22b",
   "metadata": {},
   "outputs": [],
   "source": []
  }
 ],
 "metadata": {
  "kernelspec": {
   "display_name": "Python 3 (ipykernel)",
   "language": "python",
   "name": "python3"
  },
  "language_info": {
   "codemirror_mode": {
    "name": "ipython",
    "version": 3
   },
   "file_extension": ".py",
   "mimetype": "text/x-python",
   "name": "python",
   "nbconvert_exporter": "python",
   "pygments_lexer": "ipython3",
   "version": "3.10.9"
  }
 },
 "nbformat": 4,
 "nbformat_minor": 5
}
